{
 "cells": [
  {
   "cell_type": "code",
   "execution_count": 2,
   "metadata": {
    "scrolled": true
   },
   "outputs": [],
   "source": [
    "# Import libraries \n",
    "\n",
    "import dash_html_components as html\n",
    "import io\n",
    "import pandas as pd\n",
    "import numpy as np\n",
    "from random import random\n",
    "from bs4 import BeautifulSoup\n",
    "import requests"
   ]
  },
  {
   "cell_type": "code",
   "execution_count": 15,
   "metadata": {},
   "outputs": [],
   "source": [
    "# A function to get live data\n",
    "\n",
    "def corona_live_data():\n",
    "    url = \"https://www.worldometers.info/coronavirus/\"\n",
    "    \n",
    "    # Make a GET request to fetch the raw HTML content\n",
    "    html_content = requests.get(url).text\n",
    "    \n",
    "    # Parse the html content\n",
    "    soup = BeautifulSoup(html_content, \"lxml\")\n",
    "    gdp_table = soup.find(\"table\", id = \"main_table_countries_today\")\n",
    "    gdp_table_data = gdp_table.tbody.find_all(\"tr\")\n",
    "    \n",
    "    # Getting all countries names\n",
    "    dicts = {}\n",
    "    for i in range(len(gdp_table_data)):\n",
    "        try:\n",
    "            key = (gdp_table_data[i].find_all('a', href=True)[0].string)\n",
    "        except:\n",
    "            key = (gdp_table_data[i].find_all('td')[0].string)\n",
    "\n",
    "        value = [j.string for j in gdp_table_data[i].find_all('td')]\n",
    "        dicts[key] = value\n",
    "        \n",
    "    live_data= pd.DataFrame(dicts).drop(0).T.iloc[:,:8]\n",
    "    live_data.columns = [\"Total Cases\",\"New Cases\", \"Total Deaths\", \"New Deaths\", \"Total Recovered\",\"Active\",\"Serious Critical\",\n",
    "                         \"Tot Cases/1M pop\"]\n",
    "    live_data.index.name = 'Country'\n",
    "    \n",
    "    ### your file is saved here\n",
    "    live_data.iloc[:,:5].to_csv(\"base_data.csv\")\n",
    "    "
   ]
  },
  {
   "cell_type": "code",
   "execution_count": 16,
   "metadata": {
    "scrolled": true
   },
   "outputs": [],
   "source": [
    "corona_live_data()"
   ]
  },
  {
   "cell_type": "code",
   "execution_count": null,
   "metadata": {},
   "outputs": [],
   "source": []
  }
 ],
 "metadata": {
  "kernelspec": {
   "display_name": "Python 3",
   "language": "python",
   "name": "python3"
  },
  "language_info": {
   "codemirror_mode": {
    "name": "ipython",
    "version": 3
   },
   "file_extension": ".py",
   "mimetype": "text/x-python",
   "name": "python",
   "nbconvert_exporter": "python",
   "pygments_lexer": "ipython3",
   "version": "3.7.6"
  }
 },
 "nbformat": 4,
 "nbformat_minor": 4
}
